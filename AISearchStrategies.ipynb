{
  "nbformat": 4,
  "nbformat_minor": 0,
  "metadata": {
    "colab": {
      "name": "AISearchStrategies.ipynb",
      "provenance": [],
      "collapsed_sections": []
    },
    "kernelspec": {
      "name": "python3",
      "display_name": "Python 3"
    },
    "language_info": {
      "name": "python"
    }
  },
  "cells": [
    {
      "cell_type": "code",
      "execution_count": null,
      "metadata": {
        "id": "2x4nCPrT-zLm"
      },
      "outputs": [],
      "source": [
        "import networkx as nx\n",
        "import matplotlib.pyplot as plt"
      ]
    },
    {
      "cell_type": "code",
      "source": [
        "G = nx.Graph()\n",
        "nodes=[\"SportsComplex\",\"Siwaka\",\"Ph.1A\",\"Ph.1B\",\"Phase2\",\"STC\",\"J1\",\"Phase3\",\"ParkingLot\",\"Mada\"]\n",
        "G.add_nodes_from(nodes)\n",
        "G.nodes()"
      ],
      "metadata": {
        "colab": {
          "base_uri": "https://localhost:8080/"
        },
        "id": "sDCcxEwxORCk",
        "outputId": "582c99ea-03a9-42d9-c38a-f139c99856ac"
      },
      "execution_count": null,
      "outputs": [
        {
          "output_type": "execute_result",
          "data": {
            "text/plain": [
              "NodeView(('SportsComplex', 'Siwaka', 'Ph.1A', 'Ph.1B', 'Phase2', 'STC', 'J1', 'Phase3', 'ParkingLot', 'Mada'))"
            ]
          },
          "metadata": {},
          "execution_count": 2
        }
      ]
    },
    {
      "cell_type": "code",
      "source": [
        "#Add Edges and their weights\n",
        "G.add_edge\n",
        "G.add_edge(\"SportsComplex\",\"Siwaka\", weight=\"450\",)\n",
        "G.add_edge(\"Siwaka\",\"Ph.1A\",weight=\"10\")\n",
        "G.add_edge(\"Siwaka\",\"Ph.1B\",weight=\"230\")\n",
        "G.add_edge(\"Ph.1A\",\"Mada\",weight=\"850\")\n",
        "G.add_edge(\"Ph.1A\",\"Ph.1B\",weight=\"100\")\n",
        "G.add_edge(\"Ph.1B\",\"Phase2\",weight=\"112\")\n",
        "G.add_edge(\"Ph.1B\",\"STC\",weight=\"50\")\n",
        "G.add_edge(\"Phase2\",\"J1\",weight=\"600\")\n",
        "G.add_edge(\"Phase2\",\"Phase3\",weight=\"500\")\n",
        "G.add_edge(\"Phase2\",\"STC\",weight=\"50\")\n",
        "G.add_edge(\"STC\",\"ParkingLot\",weight=\"250\")\n",
        "G.add_edge(\"J1\",\"Mada\",weight=\"200\")\n",
        "G.add_edge(\"Phase3\",\"ParkingLot\",weight=\"350\")\n",
        "G.add_edge(\"Mada\",\"ParkingLot\",weight=\"700\")"
      ],
      "metadata": {
        "id": "v43tLN2oOdwL"
      },
      "execution_count": null,
      "outputs": []
    },
    {
      "cell_type": "code",
      "source": [
        "# #position the nodes to resemble Nairobis map\n",
        "G.nodes( data='name',default=None)\n",
        "G.nodes[\"SportsComplex\"]['pos']=(0,0)\n",
        "G.nodes[\"Siwaka\"]['pos']=(4,0)\n",
        "G.nodes[\"Ph.1A\"]['pos']=(8,0)\n",
        "G.nodes[\"Ph.1B\"]['pos']=(8,-4)\n",
        "G.nodes[\"Phase2\"]['pos']=(12,-4)\n",
        "G.nodes[\"STC\"]['pos']=(8,-8)\n",
        "G.nodes[\"J1\"]['pos']=(16,-4)\n",
        "G.nodes[\"Phase3\"]['pos']=(16,-8)\n",
        "G.nodes[\"ParkingLot\"]['pos']=(16,-12)\n",
        "G.nodes[\"Mada\"]['pos']=(20,-4)"
      ],
      "metadata": {
        "id": "eqvtRQ6SOnZS"
      },
      "execution_count": null,
      "outputs": []
    },
    {
      "cell_type": "code",
      "source": [
        "node_pos = nx.get_node_attributes(G,'pos')\n",
        "edge_col = ['black']\n",
        "node_col = ['darkturquoise']\n",
        "\n",
        "arc_weight=nx.get_edge_attributes(G,'weight')\n",
        "nx.draw_networkx(G, node_pos,node_color= node_col, node_size=1500)\n",
        "nx.draw_networkx_edges(G, node_pos,width=2,edge_color= edge_col)\n",
        "nx.draw_networkx_edge_labels(G, node_pos, edge_labels=arc_weight)\n",
        "plt.axis('on')\n",
        "plt.show()"
      ],
      "metadata": {
        "colab": {
          "base_uri": "https://localhost:8080/",
          "height": 248
        },
        "id": "NG_rjrFBOsaS",
        "outputId": "3a14f6a6-f2b7-4278-e8a9-f50dd28308c7"
      },
      "execution_count": null,
      "outputs": [
        {
          "output_type": "display_data",
          "data": {
            "image/png": "[encoded data removed]",
            "text/plain": [
              "<Figure size 432x288 with 1 Axes>"
            ]
          },
          "metadata": {}
        }
      ]
    },
    {
      "cell_type": "code",
      "source": [
        "graph = {\n",
        "'Strathmore Sports Complex':[('Siwaka Plaza',405)],\n",
        "'Siwaka Plaza':[('Ph.1A',380), ('Ph.1B',280)],\n",
        "'Ph.1A':[('Mada',630), ('Siwaka Plaza',405),('Ph.1B',280)],\n",
        "'Ph.1B':[('Siwaka Plaza',405),('Ph.1A',380), ('STC',213),('Phase 2',210)],\n",
        "'Mada':[('Ph.1A',380),('Parking Lot',0)],\n",
        "'STC':[('Ph.1B',280),('Phase 2',210), ('Parking Lot',0)],\n",
        "'Phase 2':[('J1',500),('Ph.1B',280),('STC',213),('Phase 3',160)],\n",
        "'Phase 3':[('Phase 2',210),('Parking Lot',0)],\n",
        "'J1':[(('Mada',630),('Phase 2',210))],\n",
        "'Mada':[(('J1',500),('Parking Lot',0))]\n",
        "}"
      ],
      "metadata": {
        "id": "khXm7kL8O5IB"
      },
      "execution_count": null,
      "outputs": []
    },
    {
      "cell_type": "code",
      "source": [
        "def bfs(start, target, graph, queue=[], visited=[]):\n",
        "    if start not in visited:\n",
        "        print(start)\n",
        "        visited.append(start)\n",
        "    queue=queue+[x for x in graph[start] if x[0][0] not in visited]\n",
        "    queue.sort(key=lambda x:x[1])\n",
        "    if queue[0][0]==target:\n",
        "        print(queue[0][0])\n",
        "    else:\n",
        "        processing=queue[0]\n",
        "        queue.remove(processing)\n",
        "        bfs(processing[0], target, graph, queue, visited)\n",
        "bfs('Strathmore Sports Complex', 'Parking Lot', graph)"
      ],
      "metadata": {
        "colab": {
          "base_uri": "https://localhost:8080/"
        },
        "id": "ixZR1Z5EO-pw",
        "outputId": "3e19dcc5-3f36-4e2b-b3bb-a7538e049db6"
      },
      "execution_count": null,
      "outputs": [
        {
          "output_type": "stream",
          "name": "stdout",
          "text": [
            "Strathmore Sports Complex\n",
            "Siwaka Plaza\n",
            "Ph.1B\n",
            "Phase 2\n",
            "Phase 3\n",
            "Parking Lot\n"
          ]
        }
      ]
    }
  ]
}