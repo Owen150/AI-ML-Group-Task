{
  "nbformat": 4,
  "nbformat_minor": 0,
  "metadata": {
    "colab": {
      "name": "Practice1.ipynb",
      "provenance": [],
      "authorship_tag": "ABX9TyMboSnGpfDY9+MSzt/QP7t3",
      "include_colab_link": true
    },
    "kernelspec": {
      "name": "python3",
      "display_name": "Python 3"
    },
    "language_info": {
      "name": "python"
    }
  },
  "cells": [
    {
      "cell_type": "markdown",
      "metadata": {
        "id": "view-in-github",
        "colab_type": "text"
      },
      "source": [
        "<a href=\"https://colab.research.google.com/github/Owen150/AI-ML-Group-Task/blob/main/Practice1.ipynb\" target=\"_parent\"><img src=\"https://colab.research.google.com/assets/colab-badge.svg\" alt=\"Open In Colab\"/></a>"
      ]
    },
    {
      "cell_type": "code",
      "metadata": {
        "id": "XIEN-GBcTufG"
      },
      "source": [
        "import pandas as pd #dataset library\n",
        "import numpy as np #linear algebra library\n"
      ],
      "execution_count": 21,
      "outputs": []
    },
    {
      "cell_type": "code",
      "metadata": {
        "id": "0oKFpZLKVM1k"
      },
      "source": [
        "from numpy import array\n",
        "from sklearn.preprocessing import Normalizer\n",
        "from keras.activations import sigmoid\n",
        "from keras.losses import mse"
      ],
      "execution_count": 47,
      "outputs": []
    },
    {
      "cell_type": "markdown",
      "metadata": {
        "id": "SCu4uiX8uMPV"
      },
      "source": [
        "Hyperparameters"
      ]
    },
    {
      "cell_type": "code",
      "metadata": {
        "id": "qsEjZa7DuPCQ"
      },
      "source": [
        "batch_size = 2 #2 rows result"
      ],
      "execution_count": 43,
      "outputs": []
    },
    {
      "cell_type": "code",
      "metadata": {
        "id": "02pIsc3iVdCz"
      },
      "source": [
        "data_dict = {'Day 1':[30,40,50,20,15,60], 'Day 2':[40,50,20,15,60,70],\n",
        "             'Day 3':[50,20,15,60,70,50], 'Target':[20,15,60,70,50,40]}"
      ],
      "execution_count": 23,
      "outputs": []
    },
    {
      "cell_type": "code",
      "metadata": {
        "id": "YdwyBXQIYUap"
      },
      "source": [
        "data = pd.DataFrame(data_dict)"
      ],
      "execution_count": 24,
      "outputs": []
    },
    {
      "cell_type": "code",
      "metadata": {
        "colab": {
          "base_uri": "https://localhost:8080/",
          "height": 238
        },
        "id": "k9etObXFcOwL",
        "outputId": "4ff794c2-c99a-4ae7-cd54-459588d8327f"
      },
      "source": [
        "data"
      ],
      "execution_count": 25,
      "outputs": [
        {
          "output_type": "execute_result",
          "data": {
            "text/html": [
              "<div>\n",
              "<style scoped>\n",
              "    .dataframe tbody tr th:only-of-type {\n",
              "        vertical-align: middle;\n",
              "    }\n",
              "\n",
              "    .dataframe tbody tr th {\n",
              "        vertical-align: top;\n",
              "    }\n",
              "\n",
              "    .dataframe thead th {\n",
              "        text-align: right;\n",
              "    }\n",
              "</style>\n",
              "<table border=\"1\" class=\"dataframe\">\n",
              "  <thead>\n",
              "    <tr style=\"text-align: right;\">\n",
              "      <th></th>\n",
              "      <th>Day 1</th>\n",
              "      <th>Day 2</th>\n",
              "      <th>Day 3</th>\n",
              "      <th>Target</th>\n",
              "    </tr>\n",
              "  </thead>\n",
              "  <tbody>\n",
              "    <tr>\n",
              "      <th>0</th>\n",
              "      <td>30</td>\n",
              "      <td>40</td>\n",
              "      <td>50</td>\n",
              "      <td>20</td>\n",
              "    </tr>\n",
              "    <tr>\n",
              "      <th>1</th>\n",
              "      <td>40</td>\n",
              "      <td>50</td>\n",
              "      <td>20</td>\n",
              "      <td>15</td>\n",
              "    </tr>\n",
              "    <tr>\n",
              "      <th>2</th>\n",
              "      <td>50</td>\n",
              "      <td>20</td>\n",
              "      <td>15</td>\n",
              "      <td>60</td>\n",
              "    </tr>\n",
              "    <tr>\n",
              "      <th>3</th>\n",
              "      <td>20</td>\n",
              "      <td>15</td>\n",
              "      <td>60</td>\n",
              "      <td>70</td>\n",
              "    </tr>\n",
              "    <tr>\n",
              "      <th>4</th>\n",
              "      <td>15</td>\n",
              "      <td>60</td>\n",
              "      <td>70</td>\n",
              "      <td>50</td>\n",
              "    </tr>\n",
              "    <tr>\n",
              "      <th>5</th>\n",
              "      <td>60</td>\n",
              "      <td>70</td>\n",
              "      <td>50</td>\n",
              "      <td>40</td>\n",
              "    </tr>\n",
              "  </tbody>\n",
              "</table>\n",
              "</div>"
            ],
            "text/plain": [
              "   Day 1  Day 2  Day 3  Target\n",
              "0     30     40     50      20\n",
              "1     40     50     20      15\n",
              "2     50     20     15      60\n",
              "3     20     15     60      70\n",
              "4     15     60     70      50\n",
              "5     60     70     50      40"
            ]
          },
          "metadata": {},
          "execution_count": 25
        }
      ]
    },
    {
      "cell_type": "code",
      "metadata": {
        "id": "7S8s7SZ4hSvt"
      },
      "source": [
        "X = data.drop('Target', axis = 1)\n",
        "Y = data['Target']"
      ],
      "execution_count": 26,
      "outputs": []
    },
    {
      "cell_type": "code",
      "metadata": {
        "id": "NEAXbrwHhetd"
      },
      "source": [
        "X_trans = Normalizer(norm='max').fit_transform(X)"
      ],
      "execution_count": 27,
      "outputs": []
    },
    {
      "cell_type": "code",
      "metadata": {
        "colab": {
          "base_uri": "https://localhost:8080/"
        },
        "id": "YyYycXxKkcyK",
        "outputId": "77b55054-c0f2-46b3-a42e-ad212a5c7bbe"
      },
      "source": [
        "np.reshape(array(Y), (1,-1))"
      ],
      "execution_count": 28,
      "outputs": [
        {
          "output_type": "execute_result",
          "data": {
            "text/plain": [
              "array([[20, 15, 60, 70, 50, 40]])"
            ]
          },
          "metadata": {},
          "execution_count": 28
        }
      ]
    },
    {
      "cell_type": "code",
      "metadata": {
        "id": "xVNRD4r0lNPR"
      },
      "source": [
        "Y = Normalizer(norm='max').fit_transform(np.reshape(array(Y),(1,-1)))"
      ],
      "execution_count": 29,
      "outputs": []
    },
    {
      "cell_type": "code",
      "metadata": {
        "colab": {
          "base_uri": "https://localhost:8080/"
        },
        "id": "itX7Po5Jlp4i",
        "outputId": "75840934-ba50-4cd9-a86f-d0c6c93ea601"
      },
      "source": [
        "Y"
      ],
      "execution_count": 30,
      "outputs": [
        {
          "output_type": "execute_result",
          "data": {
            "text/plain": [
              "array([[0.28571429, 0.21428571, 0.85714286, 1.        , 0.71428571,\n",
              "        0.57142857]])"
            ]
          },
          "metadata": {},
          "execution_count": 30
        }
      ]
    },
    {
      "cell_type": "code",
      "metadata": {
        "colab": {
          "base_uri": "https://localhost:8080/"
        },
        "id": "FmKsNAmPmCVQ",
        "outputId": "864570d9-d6d6-4171-9854-913426726f5d"
      },
      "source": [
        "X_trans"
      ],
      "execution_count": 31,
      "outputs": [
        {
          "output_type": "execute_result",
          "data": {
            "text/plain": [
              "array([[0.6       , 0.8       , 1.        ],\n",
              "       [0.8       , 1.        , 0.4       ],\n",
              "       [1.        , 0.4       , 0.3       ],\n",
              "       [0.33333333, 0.25      , 1.        ],\n",
              "       [0.21428571, 0.85714286, 1.        ],\n",
              "       [0.85714286, 1.        , 0.71428571]])"
            ]
          },
          "metadata": {},
          "execution_count": 31
        }
      ]
    },
    {
      "cell_type": "code",
      "metadata": {
        "colab": {
          "base_uri": "https://localhost:8080/"
        },
        "id": "JIo6hKHre3y-",
        "outputId": "5c516bc5-ee19-4153-9225-79ce2b353795"
      },
      "source": [
        "Normalizer().fit_transform(data)"
      ],
      "execution_count": 32,
      "outputs": [
        {
          "output_type": "execute_result",
          "data": {
            "text/plain": [
              "array([[0.40824829, 0.54433105, 0.68041382, 0.27216553],\n",
              "       [0.58191437, 0.72739297, 0.29095719, 0.21821789],\n",
              "       [0.60971076, 0.2438843 , 0.18291323, 0.73165291],\n",
              "       [0.20936957, 0.15702718, 0.62810871, 0.73279349],\n",
              "       [0.14157875, 0.56631501, 0.66070085, 0.47192918],\n",
              "       [0.53452248, 0.62360956, 0.4454354 , 0.35634832]])"
            ]
          },
          "metadata": {},
          "execution_count": 32
        }
      ]
    },
    {
      "cell_type": "markdown",
      "metadata": {
        "id": "rjeW6zVCpoqG"
      },
      "source": [
        "ANN Model"
      ]
    },
    {
      "cell_type": "code",
      "metadata": {
        "id": "R9syHM56prTb"
      },
      "source": [
        "weight_1 = array([[.2,.1],[.3,.1],[.2,.1]])\n",
        "weight_2 = array([[.5],[.1]])"
      ],
      "execution_count": 34,
      "outputs": []
    },
    {
      "cell_type": "code",
      "metadata": {
        "id": "Uw0zu_btqMU9"
      },
      "source": [
        "X = X_trans"
      ],
      "execution_count": 35,
      "outputs": []
    },
    {
      "cell_type": "code",
      "metadata": {
        "colab": {
          "base_uri": "https://localhost:8080/"
        },
        "id": "GDp8gbUoqnmo",
        "outputId": "9138f1f4-4971-4315-df20-3cdd83ac2f75"
      },
      "source": [
        "output_1 = X[0:batch_size]@weight_1\n",
        "output_1"
      ],
      "execution_count": 44,
      "outputs": [
        {
          "output_type": "execute_result",
          "data": {
            "text/plain": [
              "array([[0.56, 0.24],\n",
              "       [0.54, 0.22]])"
            ]
          },
          "metadata": {},
          "execution_count": 44
        }
      ]
    },
    {
      "cell_type": "code",
      "metadata": {
        "colab": {
          "base_uri": "https://localhost:8080/"
        },
        "id": "9wcas2uerw1K",
        "outputId": "fd7079ab-aea6-4292-e327-5d8aab7749bc"
      },
      "source": [
        "act_output_1 = sigmoid(output_1).numpy()\n",
        "act_output_1"
      ],
      "execution_count": 45,
      "outputs": [
        {
          "output_type": "execute_result",
          "data": {
            "text/plain": [
              "array([[0.63645254, 0.55971365],\n",
              "       [0.63181242, 0.55477924]])"
            ]
          },
          "metadata": {},
          "execution_count": 45
        }
      ]
    },
    {
      "cell_type": "code",
      "metadata": {
        "colab": {
          "base_uri": "https://localhost:8080/"
        },
        "id": "6SgjD248sspx",
        "outputId": "18417ed4-2a29-441f-ce5c-654c79f0cb4e"
      },
      "source": [
        "final_output = act_output_1@weight_2\n",
        "final_output"
      ],
      "execution_count": 46,
      "outputs": [
        {
          "output_type": "execute_result",
          "data": {
            "text/plain": [
              "array([[0.37419764],\n",
              "       [0.37138413]])"
            ]
          },
          "metadata": {},
          "execution_count": 46
        }
      ]
    },
    {
      "cell_type": "code",
      "metadata": {
        "id": "aWXvgybVwYpq"
      },
      "source": [
        "Y_true = Y[0][0:batch_size]\n",
        "Y_pred = final_output.T[0]"
      ],
      "execution_count": 53,
      "outputs": []
    },
    {
      "cell_type": "code",
      "metadata": {
        "colab": {
          "base_uri": "https://localhost:8080/"
        },
        "id": "1PklbDYQwqtC",
        "outputId": "aa20cff1-1181-4845-f24d-bce411bbbd15"
      },
      "source": [
        "Y_true"
      ],
      "execution_count": 49,
      "outputs": [
        {
          "output_type": "execute_result",
          "data": {
            "text/plain": [
              "array([0.28571429, 0.21428571])"
            ]
          },
          "metadata": {},
          "execution_count": 49
        }
      ]
    },
    {
      "cell_type": "code",
      "metadata": {
        "colab": {
          "base_uri": "https://localhost:8080/"
        },
        "id": "x1SAbhP1wtyW",
        "outputId": "c29065ad-2567-4125-bc69-3f267e078036"
      },
      "source": [
        "Y_pred.T"
      ],
      "execution_count": 54,
      "outputs": [
        {
          "output_type": "execute_result",
          "data": {
            "text/plain": [
              "array([0.37419764, 0.37138413])"
            ]
          },
          "metadata": {},
          "execution_count": 54
        }
      ]
    },
    {
      "cell_type": "markdown",
      "metadata": {
        "id": "gt20maXsvObh"
      },
      "source": [
        "Computing Mean Squared Error"
      ]
    },
    {
      "cell_type": "code",
      "metadata": {
        "colab": {
          "base_uri": "https://localhost:8080/"
        },
        "id": "ejC5pSAbs13x",
        "outputId": "3df90c60-35e3-475b-9653-cb99f8b03f82"
      },
      "source": [
        "mse(Y_true,Y_pred).numpy()"
      ],
      "execution_count": 55,
      "outputs": [
        {
          "output_type": "execute_result",
          "data": {
            "text/plain": [
              "0.016254608040052337"
            ]
          },
          "metadata": {},
          "execution_count": 55
        }
      ]
    }
  ]
}